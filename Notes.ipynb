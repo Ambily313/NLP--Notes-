{
 "cells": [
  {
   "cell_type": "markdown",
   "id": "c1557f3d",
   "metadata": {},
   "source": [
    "# NLP Practice Notes"
   ]
  },
  {
   "cell_type": "markdown",
   "id": "1ea5b166",
   "metadata": {},
   "source": [
    "### Tokenization"
   ]
  },
  {
   "cell_type": "code",
   "execution_count": 1,
   "id": "68d6c9e5",
   "metadata": {},
   "outputs": [
    {
     "name": "stdout",
     "output_type": "stream",
     "text": [
      "Requirement already satisfied: nltk in c:\\anaconda3\\lib\\site-packages (3.8.1)\n",
      "Requirement already satisfied: click in c:\\anaconda3\\lib\\site-packages (from nltk) (8.1.7)\n",
      "Requirement already satisfied: joblib in c:\\anaconda3\\lib\\site-packages (from nltk) (1.4.2)\n",
      "Requirement already satisfied: regex>=2021.8.3 in c:\\anaconda3\\lib\\site-packages (from nltk) (2023.10.3)\n",
      "Requirement already satisfied: tqdm in c:\\anaconda3\\lib\\site-packages (from nltk) (4.66.4)\n",
      "Requirement already satisfied: colorama in c:\\anaconda3\\lib\\site-packages (from click->nltk) (0.4.6)\n",
      "Note: you may need to restart the kernel to use updated packages.\n"
     ]
    }
   ],
   "source": [
    "! pip install nltk"
   ]
  },
  {
   "cell_type": "code",
   "execution_count": null,
   "id": "66fc77dd",
   "metadata": {},
   "outputs": [],
   "source": [
    "corpus= \"\"\" Wow! I can’t believe this is happening,\" said Sarah. She looked around the park—children were laughing, \n",
    "dogs were barking, and the ice-cream man shouted, “Fresh cones! Only $2 each!” Could this day get any better? \n",
    "Probably not, but who knows… Tomorrow might surprise her again.\" \"\"\""
   ]
  },
  {
   "cell_type": "code",
   "execution_count": 2,
   "id": "28893f41",
   "metadata": {},
   "outputs": [
    {
     "name": "stdout",
     "output_type": "stream",
     "text": [
      " Wow! I can’t believe this is happening,\" said Sarah. She looked around the park—children were laughing, \n",
      "dogs were barking, and the ice-cream man shouted, “Fresh cones! Only $2 each!” Could this day get any better? \n",
      "Probably not, but who knows… Tomorrow might surprise her again.\n"
     ]
    }
   ],
   "source": [
    "print(corpus)"
   ]
  },
  {
   "cell_type": "code",
   "execution_count": 16,
   "id": "b08f1da4",
   "metadata": {},
   "outputs": [
    {
     "name": "stderr",
     "output_type": "stream",
     "text": [
      "[nltk_data] Downloading package punkt to\n",
      "[nltk_data]     C:\\Users\\hp\\AppData\\Roaming\\nltk_data...\n",
      "[nltk_data]   Unzipping tokenizers\\punkt.zip.\n"
     ]
    },
    {
     "data": {
      "text/plain": [
       "True"
      ]
     },
     "execution_count": 16,
     "metadata": {},
     "output_type": "execute_result"
    }
   ],
   "source": [
    "import nltk\n",
    "nltk.download('punkt') "
   ]
  },
  {
   "cell_type": "code",
   "execution_count": 17,
   "id": "f63cf9a6",
   "metadata": {},
   "outputs": [],
   "source": [
    "# Para---> Sentence\n",
    "\n",
    "from nltk.tokenize import sent_tokenize\n"
   ]
  },
  {
   "cell_type": "code",
   "execution_count": 21,
   "id": "f076715a",
   "metadata": {},
   "outputs": [
    {
     "data": {
      "text/plain": [
       "[' Wow!',\n",
       " 'I can’t believe this is happening,\" said Sarah.',\n",
       " 'She looked around the park—children were laughing, \\ndogs were barking, and the ice-cream man shouted, “Fresh cones!',\n",
       " 'Only $2 each!” Could this day get any better?',\n",
       " 'Probably not, but who knows… Tomorrow might surprise her again.']"
      ]
     },
     "execution_count": 21,
     "metadata": {},
     "output_type": "execute_result"
    }
   ],
   "source": [
    "sent_token=sent_tokenize(corpus)\n",
    "sent_token"
   ]
  },
  {
   "cell_type": "code",
   "execution_count": 22,
   "id": "ebf539d2",
   "metadata": {},
   "outputs": [
    {
     "data": {
      "text/plain": [
       "list"
      ]
     },
     "execution_count": 22,
     "metadata": {},
     "output_type": "execute_result"
    }
   ],
   "source": [
    "type(sent_token)"
   ]
  },
  {
   "cell_type": "code",
   "execution_count": 23,
   "id": "5c393b20",
   "metadata": {},
   "outputs": [
    {
     "data": {
      "text/plain": [
       "5"
      ]
     },
     "execution_count": 23,
     "metadata": {},
     "output_type": "execute_result"
    }
   ],
   "source": [
    "len(sent_token)"
   ]
  },
  {
   "cell_type": "code",
   "execution_count": 24,
   "id": "ae6933bf",
   "metadata": {},
   "outputs": [
    {
     "name": "stdout",
     "output_type": "stream",
     "text": [
      " Wow!\n",
      "I can’t believe this is happening,\" said Sarah.\n",
      "She looked around the park—children were laughing, \n",
      "dogs were barking, and the ice-cream man shouted, “Fresh cones!\n",
      "Only $2 each!” Could this day get any better?\n",
      "Probably not, but who knows… Tomorrow might surprise her again.\n"
     ]
    }
   ],
   "source": [
    "for documents in sent_token:\n",
    "    print(documents)"
   ]
  },
  {
   "cell_type": "code",
   "execution_count": 25,
   "id": "7f8c1c87",
   "metadata": {},
   "outputs": [
    {
     "data": {
      "text/plain": [
       "['Wow',\n",
       " '!',\n",
       " 'I',\n",
       " 'can',\n",
       " '’',\n",
       " 't',\n",
       " 'believe',\n",
       " 'this',\n",
       " 'is',\n",
       " 'happening',\n",
       " ',',\n",
       " \"''\",\n",
       " 'said',\n",
       " 'Sarah',\n",
       " '.',\n",
       " 'She',\n",
       " 'looked',\n",
       " 'around',\n",
       " 'the',\n",
       " 'park—children',\n",
       " 'were',\n",
       " 'laughing',\n",
       " ',',\n",
       " 'dogs',\n",
       " 'were',\n",
       " 'barking',\n",
       " ',',\n",
       " 'and',\n",
       " 'the',\n",
       " 'ice-cream',\n",
       " 'man',\n",
       " 'shouted',\n",
       " ',',\n",
       " '“',\n",
       " 'Fresh',\n",
       " 'cones',\n",
       " '!',\n",
       " 'Only',\n",
       " '$',\n",
       " '2',\n",
       " 'each',\n",
       " '!',\n",
       " '”',\n",
       " 'Could',\n",
       " 'this',\n",
       " 'day',\n",
       " 'get',\n",
       " 'any',\n",
       " 'better',\n",
       " '?',\n",
       " 'Probably',\n",
       " 'not',\n",
       " ',',\n",
       " 'but',\n",
       " 'who',\n",
       " 'knows…',\n",
       " 'Tomorrow',\n",
       " 'might',\n",
       " 'surprise',\n",
       " 'her',\n",
       " 'again',\n",
       " '.']"
      ]
     },
     "execution_count": 25,
     "metadata": {},
     "output_type": "execute_result"
    }
   ],
   "source": [
    "# Para/sentence------> words\n",
    "\n",
    "from nltk import word_tokenize\n",
    "\n",
    "word_tokenize(corpus)"
   ]
  },
  {
   "cell_type": "code",
   "execution_count": 27,
   "id": "ca0a94c8",
   "metadata": {},
   "outputs": [
    {
     "name": "stdout",
     "output_type": "stream",
     "text": [
      "Wow\n",
      "!\n",
      "I\n",
      "can\n",
      "’\n",
      "t\n",
      "believe\n",
      "this\n",
      "is\n",
      "happening\n",
      ",\n",
      "''\n",
      "said\n",
      "Sarah\n",
      ".\n",
      "She\n",
      "looked\n",
      "around\n",
      "the\n",
      "park—children\n",
      "were\n",
      "laughing\n",
      ",\n",
      "dogs\n",
      "were\n",
      "barking\n",
      ",\n",
      "and\n",
      "the\n",
      "ice-cream\n",
      "man\n",
      "shouted\n",
      ",\n",
      "“\n",
      "Fresh\n",
      "cones\n",
      "!\n",
      "Only\n",
      "$\n",
      "2\n",
      "each\n",
      "!\n",
      "”\n",
      "Could\n",
      "this\n",
      "day\n",
      "get\n",
      "any\n",
      "better\n",
      "?\n",
      "Probably\n",
      "not\n",
      ",\n",
      "but\n",
      "who\n",
      "knows…\n",
      "Tomorrow\n",
      "might\n",
      "surprise\n",
      "her\n",
      "again\n",
      ".\n"
     ]
    }
   ],
   "source": [
    "for words in word_tokenize(corpus):\n",
    "    print (words)"
   ]
  },
  {
   "cell_type": "code",
   "execution_count": 28,
   "id": "20476d31",
   "metadata": {},
   "outputs": [
    {
     "data": {
      "text/plain": [
       "62"
      ]
     },
     "execution_count": 28,
     "metadata": {},
     "output_type": "execute_result"
    }
   ],
   "source": [
    "len(word_tokenize(corpus))"
   ]
  },
  {
   "cell_type": "code",
   "execution_count": null,
   "id": "88632831",
   "metadata": {},
   "outputs": [],
   "source": []
  },
  {
   "cell_type": "code",
   "execution_count": null,
   "id": "cb831131",
   "metadata": {},
   "outputs": [],
   "source": []
  },
  {
   "cell_type": "code",
   "execution_count": null,
   "id": "6b4ca4b0",
   "metadata": {},
   "outputs": [],
   "source": []
  },
  {
   "cell_type": "code",
   "execution_count": null,
   "id": "573b2c3d",
   "metadata": {},
   "outputs": [],
   "source": []
  },
  {
   "cell_type": "code",
   "execution_count": null,
   "id": "f3d3e3a1",
   "metadata": {},
   "outputs": [],
   "source": []
  },
  {
   "cell_type": "code",
   "execution_count": null,
   "id": "b3c0997f",
   "metadata": {},
   "outputs": [],
   "source": []
  },
  {
   "cell_type": "code",
   "execution_count": null,
   "id": "2421b085",
   "metadata": {},
   "outputs": [],
   "source": []
  },
  {
   "cell_type": "code",
   "execution_count": null,
   "id": "9e0a6324",
   "metadata": {},
   "outputs": [],
   "source": []
  },
  {
   "cell_type": "code",
   "execution_count": null,
   "id": "eaaf6d92",
   "metadata": {},
   "outputs": [],
   "source": []
  },
  {
   "cell_type": "code",
   "execution_count": null,
   "id": "c1343689",
   "metadata": {},
   "outputs": [],
   "source": []
  }
 ],
 "metadata": {
  "kernelspec": {
   "display_name": "base",
   "language": "python",
   "name": "python3"
  },
  "language_info": {
   "codemirror_mode": {
    "name": "ipython",
    "version": 3
   },
   "file_extension": ".py",
   "mimetype": "text/x-python",
   "name": "python",
   "nbconvert_exporter": "python",
   "pygments_lexer": "ipython3",
   "version": "3.12.4"
  }
 },
 "nbformat": 4,
 "nbformat_minor": 5
}
