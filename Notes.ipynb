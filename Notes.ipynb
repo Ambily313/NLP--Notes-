{
 "cells": [
  {
   "cell_type": "markdown",
   "id": "c1557f3d",
   "metadata": {},
   "source": [
    "# NLP Practice Notes"
   ]
  },
  {
   "cell_type": "markdown",
   "id": "1ea5b166",
   "metadata": {},
   "source": [
    "### Tokenization"
   ]
  },
  {
   "cell_type": "code",
   "execution_count": 1,
   "id": "68d6c9e5",
   "metadata": {},
   "outputs": [
    {
     "name": "stdout",
     "output_type": "stream",
     "text": [
      "Requirement already satisfied: nltk in c:\\anaconda3\\lib\\site-packages (3.8.1)\n",
      "Requirement already satisfied: click in c:\\anaconda3\\lib\\site-packages (from nltk) (8.1.7)\n",
      "Requirement already satisfied: joblib in c:\\anaconda3\\lib\\site-packages (from nltk) (1.4.2)\n",
      "Requirement already satisfied: regex>=2021.8.3 in c:\\anaconda3\\lib\\site-packages (from nltk) (2023.10.3)\n",
      "Requirement already satisfied: tqdm in c:\\anaconda3\\lib\\site-packages (from nltk) (4.66.4)\n",
      "Requirement already satisfied: colorama in c:\\anaconda3\\lib\\site-packages (from click->nltk) (0.4.6)\n",
      "Note: you may need to restart the kernel to use updated packages.\n"
     ]
    }
   ],
   "source": [
    "! pip install nltk"
   ]
  },
  {
   "cell_type": "code",
   "execution_count": null,
   "id": "66fc77dd",
   "metadata": {},
   "outputs": [],
   "source": [
    "corpus= \"\"\" Wow! I can’t believe this is happening,\" said Sarah. She looked around the park—children were laughing, \n",
    "dogs were barking, and the ice-cream man shouted, “Fresh cones! Only $2 each!” Could this day get any better? \n",
    "Probably not, but who knows… Tomorrow might surprise her again.\" \"\"\""
   ]
  },
  {
   "cell_type": "code",
   "execution_count": 2,
   "id": "28893f41",
   "metadata": {},
   "outputs": [
    {
     "name": "stdout",
     "output_type": "stream",
     "text": [
      " Wow! I can’t believe this is happening,\" said Sarah. She looked around the park—children were laughing, \n",
      "dogs were barking, and the ice-cream man shouted, “Fresh cones! Only $2 each!” Could this day get any better? \n",
      "Probably not, but who knows… Tomorrow might surprise her again.\n"
     ]
    }
   ],
   "source": [
    "print(corpus)"
   ]
  },
  {
   "cell_type": "code",
   "execution_count": 1,
   "id": "b08f1da4",
   "metadata": {},
   "outputs": [
    {
     "name": "stderr",
     "output_type": "stream",
     "text": [
      "[nltk_data] Downloading package punkt to\n",
      "[nltk_data]     C:\\Users\\hp\\AppData\\Roaming\\nltk_data...\n",
      "[nltk_data]   Package punkt is already up-to-date!\n"
     ]
    },
    {
     "data": {
      "text/plain": [
       "True"
      ]
     },
     "execution_count": 1,
     "metadata": {},
     "output_type": "execute_result"
    }
   ],
   "source": [
    "import nltk\n",
    "nltk.download('punkt') "
   ]
  },
  {
   "cell_type": "code",
   "execution_count": 2,
   "id": "f63cf9a6",
   "metadata": {},
   "outputs": [],
   "source": [
    "# Para---> Sentence\n",
    "\n",
    "from nltk.tokenize import sent_tokenize\n"
   ]
  },
  {
   "cell_type": "code",
   "execution_count": 21,
   "id": "f076715a",
   "metadata": {},
   "outputs": [
    {
     "data": {
      "text/plain": [
       "[' Wow!',\n",
       " 'I can’t believe this is happening,\" said Sarah.',\n",
       " 'She looked around the park—children were laughing, \\ndogs were barking, and the ice-cream man shouted, “Fresh cones!',\n",
       " 'Only $2 each!” Could this day get any better?',\n",
       " 'Probably not, but who knows… Tomorrow might surprise her again.']"
      ]
     },
     "execution_count": 21,
     "metadata": {},
     "output_type": "execute_result"
    }
   ],
   "source": [
    "sent_token=sent_tokenize(corpus)\n",
    "sent_token"
   ]
  },
  {
   "cell_type": "code",
   "execution_count": 22,
   "id": "ebf539d2",
   "metadata": {},
   "outputs": [
    {
     "data": {
      "text/plain": [
       "list"
      ]
     },
     "execution_count": 22,
     "metadata": {},
     "output_type": "execute_result"
    }
   ],
   "source": [
    "type(sent_token)"
   ]
  },
  {
   "cell_type": "code",
   "execution_count": 23,
   "id": "5c393b20",
   "metadata": {},
   "outputs": [
    {
     "data": {
      "text/plain": [
       "5"
      ]
     },
     "execution_count": 23,
     "metadata": {},
     "output_type": "execute_result"
    }
   ],
   "source": [
    "len(sent_token)"
   ]
  },
  {
   "cell_type": "code",
   "execution_count": 24,
   "id": "ae6933bf",
   "metadata": {},
   "outputs": [
    {
     "name": "stdout",
     "output_type": "stream",
     "text": [
      " Wow!\n",
      "I can’t believe this is happening,\" said Sarah.\n",
      "She looked around the park—children were laughing, \n",
      "dogs were barking, and the ice-cream man shouted, “Fresh cones!\n",
      "Only $2 each!” Could this day get any better?\n",
      "Probably not, but who knows… Tomorrow might surprise her again.\n"
     ]
    }
   ],
   "source": [
    "for documents in sent_token:\n",
    "    print(documents)"
   ]
  },
  {
   "cell_type": "code",
   "execution_count": 25,
   "id": "7f8c1c87",
   "metadata": {},
   "outputs": [
    {
     "data": {
      "text/plain": [
       "['Wow',\n",
       " '!',\n",
       " 'I',\n",
       " 'can',\n",
       " '’',\n",
       " 't',\n",
       " 'believe',\n",
       " 'this',\n",
       " 'is',\n",
       " 'happening',\n",
       " ',',\n",
       " \"''\",\n",
       " 'said',\n",
       " 'Sarah',\n",
       " '.',\n",
       " 'She',\n",
       " 'looked',\n",
       " 'around',\n",
       " 'the',\n",
       " 'park—children',\n",
       " 'were',\n",
       " 'laughing',\n",
       " ',',\n",
       " 'dogs',\n",
       " 'were',\n",
       " 'barking',\n",
       " ',',\n",
       " 'and',\n",
       " 'the',\n",
       " 'ice-cream',\n",
       " 'man',\n",
       " 'shouted',\n",
       " ',',\n",
       " '“',\n",
       " 'Fresh',\n",
       " 'cones',\n",
       " '!',\n",
       " 'Only',\n",
       " '$',\n",
       " '2',\n",
       " 'each',\n",
       " '!',\n",
       " '”',\n",
       " 'Could',\n",
       " 'this',\n",
       " 'day',\n",
       " 'get',\n",
       " 'any',\n",
       " 'better',\n",
       " '?',\n",
       " 'Probably',\n",
       " 'not',\n",
       " ',',\n",
       " 'but',\n",
       " 'who',\n",
       " 'knows…',\n",
       " 'Tomorrow',\n",
       " 'might',\n",
       " 'surprise',\n",
       " 'her',\n",
       " 'again',\n",
       " '.']"
      ]
     },
     "execution_count": 25,
     "metadata": {},
     "output_type": "execute_result"
    }
   ],
   "source": [
    "# Para/sentence------> words\n",
    "\n",
    "from nltk import word_tokenize\n",
    "\n",
    "word_tokenize(corpus)"
   ]
  },
  {
   "cell_type": "code",
   "execution_count": 27,
   "id": "ca0a94c8",
   "metadata": {},
   "outputs": [
    {
     "name": "stdout",
     "output_type": "stream",
     "text": [
      "Wow\n",
      "!\n",
      "I\n",
      "can\n",
      "’\n",
      "t\n",
      "believe\n",
      "this\n",
      "is\n",
      "happening\n",
      ",\n",
      "''\n",
      "said\n",
      "Sarah\n",
      ".\n",
      "She\n",
      "looked\n",
      "around\n",
      "the\n",
      "park—children\n",
      "were\n",
      "laughing\n",
      ",\n",
      "dogs\n",
      "were\n",
      "barking\n",
      ",\n",
      "and\n",
      "the\n",
      "ice-cream\n",
      "man\n",
      "shouted\n",
      ",\n",
      "“\n",
      "Fresh\n",
      "cones\n",
      "!\n",
      "Only\n",
      "$\n",
      "2\n",
      "each\n",
      "!\n",
      "”\n",
      "Could\n",
      "this\n",
      "day\n",
      "get\n",
      "any\n",
      "better\n",
      "?\n",
      "Probably\n",
      "not\n",
      ",\n",
      "but\n",
      "who\n",
      "knows…\n",
      "Tomorrow\n",
      "might\n",
      "surprise\n",
      "her\n",
      "again\n",
      ".\n"
     ]
    }
   ],
   "source": [
    "for words in word_tokenize(corpus):\n",
    "    print (words)"
   ]
  },
  {
   "cell_type": "code",
   "execution_count": 28,
   "id": "20476d31",
   "metadata": {},
   "outputs": [
    {
     "data": {
      "text/plain": [
       "62"
      ]
     },
     "execution_count": 28,
     "metadata": {},
     "output_type": "execute_result"
    }
   ],
   "source": [
    "len(word_tokenize(corpus))"
   ]
  },
  {
   "cell_type": "code",
   "execution_count": 30,
   "id": "88632831",
   "metadata": {},
   "outputs": [
    {
     "data": {
      "text/plain": [
       "['Wow',\n",
       " '!',\n",
       " 'I',\n",
       " 'can',\n",
       " '’',\n",
       " 't',\n",
       " 'believe',\n",
       " 'this',\n",
       " 'is',\n",
       " 'happening',\n",
       " ',\"',\n",
       " 'said',\n",
       " 'Sarah',\n",
       " '.',\n",
       " 'She',\n",
       " 'looked',\n",
       " 'around',\n",
       " 'the',\n",
       " 'park',\n",
       " '—',\n",
       " 'children',\n",
       " 'were',\n",
       " 'laughing',\n",
       " ',',\n",
       " 'dogs',\n",
       " 'were',\n",
       " 'barking',\n",
       " ',',\n",
       " 'and',\n",
       " 'the',\n",
       " 'ice',\n",
       " '-',\n",
       " 'cream',\n",
       " 'man',\n",
       " 'shouted',\n",
       " ',',\n",
       " '“',\n",
       " 'Fresh',\n",
       " 'cones',\n",
       " '!',\n",
       " 'Only',\n",
       " '$',\n",
       " '2',\n",
       " 'each',\n",
       " '!”',\n",
       " 'Could',\n",
       " 'this',\n",
       " 'day',\n",
       " 'get',\n",
       " 'any',\n",
       " 'better',\n",
       " '?',\n",
       " 'Probably',\n",
       " 'not',\n",
       " ',',\n",
       " 'but',\n",
       " 'who',\n",
       " 'knows',\n",
       " '…',\n",
       " 'Tomorrow',\n",
       " 'might',\n",
       " 'surprise',\n",
       " 'her',\n",
       " 'again',\n",
       " '.']"
      ]
     },
     "execution_count": 30,
     "metadata": {},
     "output_type": "execute_result"
    }
   ],
   "source": [
    "from nltk.tokenize import wordpunct_tokenize\n",
    "\n",
    "wordpunct_tokenize(corpus)"
   ]
  },
  {
   "cell_type": "code",
   "execution_count": 31,
   "id": "cb831131",
   "metadata": {},
   "outputs": [],
   "source": [
    "from nltk.tokenize import TreebankWordTokenizer"
   ]
  },
  {
   "cell_type": "code",
   "execution_count": 32,
   "id": "6b4ca4b0",
   "metadata": {},
   "outputs": [],
   "source": [
    "tree_tokn=TreebankWordTokenizer()"
   ]
  },
  {
   "cell_type": "code",
   "execution_count": 33,
   "id": "573b2c3d",
   "metadata": {},
   "outputs": [
    {
     "data": {
      "text/plain": [
       "['Wow',\n",
       " '!',\n",
       " 'I',\n",
       " 'can’t',\n",
       " 'believe',\n",
       " 'this',\n",
       " 'is',\n",
       " 'happening',\n",
       " ',',\n",
       " \"''\",\n",
       " 'said',\n",
       " 'Sarah.',\n",
       " 'She',\n",
       " 'looked',\n",
       " 'around',\n",
       " 'the',\n",
       " 'park—children',\n",
       " 'were',\n",
       " 'laughing',\n",
       " ',',\n",
       " 'dogs',\n",
       " 'were',\n",
       " 'barking',\n",
       " ',',\n",
       " 'and',\n",
       " 'the',\n",
       " 'ice-cream',\n",
       " 'man',\n",
       " 'shouted',\n",
       " ',',\n",
       " '“Fresh',\n",
       " 'cones',\n",
       " '!',\n",
       " 'Only',\n",
       " '$',\n",
       " '2',\n",
       " 'each',\n",
       " '!',\n",
       " '”',\n",
       " 'Could',\n",
       " 'this',\n",
       " 'day',\n",
       " 'get',\n",
       " 'any',\n",
       " 'better',\n",
       " '?',\n",
       " 'Probably',\n",
       " 'not',\n",
       " ',',\n",
       " 'but',\n",
       " 'who',\n",
       " 'knows…',\n",
       " 'Tomorrow',\n",
       " 'might',\n",
       " 'surprise',\n",
       " 'her',\n",
       " 'again',\n",
       " '.']"
      ]
     },
     "execution_count": 33,
     "metadata": {},
     "output_type": "execute_result"
    }
   ],
   "source": [
    "tree_tokn.tokenize(corpus)"
   ]
  },
  {
   "cell_type": "markdown",
   "id": "ca971c0b",
   "metadata": {},
   "source": [
    "### Stemming"
   ]
  },
  {
   "cell_type": "code",
   "execution_count": 7,
   "id": "f3d3e3a1",
   "metadata": {},
   "outputs": [],
   "source": [
    "words = [\"cats\", \"dogs\", \"buses\", \"studies\", \"running\", \"happiness\", \"quickly\", \"nationality\", \"organization\", \"connecting\", \"biggest\"]"
   ]
  },
  {
   "cell_type": "markdown",
   "id": "2e429554",
   "metadata": {},
   "source": [
    "#####  Porter Stemmer"
   ]
  },
  {
   "cell_type": "code",
   "execution_count": 3,
   "id": "b3c0997f",
   "metadata": {},
   "outputs": [],
   "source": [
    "from nltk.stem import PorterStemmer"
   ]
  },
  {
   "cell_type": "code",
   "execution_count": 4,
   "id": "2421b085",
   "metadata": {},
   "outputs": [],
   "source": [
    "p_stemming=PorterStemmer()"
   ]
  },
  {
   "cell_type": "code",
   "execution_count": 11,
   "id": "9e0a6324",
   "metadata": {},
   "outputs": [
    {
     "name": "stdout",
     "output_type": "stream",
     "text": [
      "cats------------------->cat\n",
      "dogs------------------->dog\n",
      "buses------------------->buse\n",
      "studies------------------->studi\n",
      "running------------------->run\n",
      "happiness------------------->happi\n",
      "quickly------------------->quickli\n",
      "nationality------------------->nation\n",
      "organization------------------->organ\n",
      "connecting------------------->connect\n",
      "biggest------------------->biggest\n"
     ]
    }
   ],
   "source": [
    "for word in words:\n",
    "    print(word+\"------------------->\"+p_stemming.stem(word))"
   ]
  },
  {
   "cell_type": "code",
   "execution_count": 12,
   "id": "eaaf6d92",
   "metadata": {},
   "outputs": [
    {
     "data": {
      "text/plain": [
       "'congratul'"
      ]
     },
     "execution_count": 12,
     "metadata": {},
     "output_type": "execute_result"
    }
   ],
   "source": [
    "p_stemming.stem(\"Congratulations\")"
   ]
  },
  {
   "cell_type": "markdown",
   "id": "98605773",
   "metadata": {},
   "source": [
    "### RegexpStemmer class"
   ]
  },
  {
   "cell_type": "code",
   "execution_count": 14,
   "id": "c1343689",
   "metadata": {},
   "outputs": [],
   "source": [
    "from nltk.stem import RegexpStemmer"
   ]
  },
  {
   "cell_type": "code",
   "execution_count": 16,
   "id": "545686bb",
   "metadata": {},
   "outputs": [],
   "source": [
    "reg_stemmer=RegexpStemmer('ing$|s$|e$|able$', min=4)"
   ]
  },
  {
   "cell_type": "code",
   "execution_count": 17,
   "id": "45537c8c",
   "metadata": {},
   "outputs": [
    {
     "name": "stdout",
     "output_type": "stream",
     "text": [
      "cats------------------->cat\n",
      "dogs------------------->dog\n",
      "buses------------------->buse\n",
      "studies------------------->studie\n",
      "running------------------->runn\n",
      "happiness------------------->happines\n",
      "quickly------------------->quickly\n",
      "nationality------------------->nationality\n",
      "organization------------------->organization\n",
      "connecting------------------->connect\n",
      "biggest------------------->biggest\n"
     ]
    }
   ],
   "source": [
    "for word in words:\n",
    "    print(word+\"------------------->\"+reg_stemmer.stem(word))"
   ]
  },
  {
   "cell_type": "markdown",
   "id": "b7e54e60",
   "metadata": {},
   "source": [
    "### SnowballStemmer"
   ]
  },
  {
   "cell_type": "code",
   "execution_count": 23,
   "id": "38b2ccd7",
   "metadata": {},
   "outputs": [],
   "source": [
    "from nltk.stem import SnowballStemmer"
   ]
  },
  {
   "cell_type": "code",
   "execution_count": 25,
   "id": "5ee1fbad",
   "metadata": {},
   "outputs": [],
   "source": [
    "snow_stemmer=SnowballStemmer(language='english')"
   ]
  },
  {
   "cell_type": "code",
   "execution_count": 26,
   "id": "6bc4b885",
   "metadata": {},
   "outputs": [
    {
     "name": "stdout",
     "output_type": "stream",
     "text": [
      "cats---------------->cat\n",
      "dogs---------------->dog\n",
      "buses---------------->buse\n",
      "studies---------------->studi\n",
      "running---------------->run\n",
      "happiness---------------->happi\n",
      "quickly---------------->quick\n",
      "nationality---------------->nation\n",
      "organization---------------->organ\n",
      "connecting---------------->connect\n",
      "biggest---------------->biggest\n"
     ]
    }
   ],
   "source": [
    "for word in words:\n",
    "    print(word+\"---------------->\"+ snow_stemmer.stem(word))"
   ]
  },
  {
   "cell_type": "markdown",
   "id": "d0066f18",
   "metadata": {},
   "source": [
    "### Lemmatization"
   ]
  },
  {
   "cell_type": "code",
   "execution_count": 30,
   "id": "5ff71d24",
   "metadata": {},
   "outputs": [
    {
     "name": "stderr",
     "output_type": "stream",
     "text": [
      "[nltk_data] Downloading package wordnet to\n",
      "[nltk_data]     C:\\Users\\hp\\AppData\\Roaming\\nltk_data...\n"
     ]
    },
    {
     "data": {
      "text/plain": [
       "True"
      ]
     },
     "execution_count": 30,
     "metadata": {},
     "output_type": "execute_result"
    }
   ],
   "source": [
    "from nltk.stem import WordNetLemmatizer\n",
    "nltk.download('wordnet')"
   ]
  },
  {
   "cell_type": "code",
   "execution_count": 31,
   "id": "2345a00b",
   "metadata": {},
   "outputs": [],
   "source": [
    "lemmatizer=WordNetLemmatizer()"
   ]
  },
  {
   "cell_type": "code",
   "execution_count": 39,
   "id": "6273ec80",
   "metadata": {},
   "outputs": [
    {
     "data": {
      "text/plain": [
       "'go'"
      ]
     },
     "execution_count": 39,
     "metadata": {},
     "output_type": "execute_result"
    }
   ],
   "source": [
    "''' POS\n",
    "Noun -n \n",
    "verb-v\n",
    "adjective-a\n",
    "adverb-r\n",
    "'''\n",
    "\n",
    "lemmatizer.lemmatize('goes',pos='v')"
   ]
  },
  {
   "cell_type": "code",
   "execution_count": 41,
   "id": "e14a871d",
   "metadata": {},
   "outputs": [
    {
     "name": "stdout",
     "output_type": "stream",
     "text": [
      "cats------------->cat\n",
      "dogs------------->dog\n",
      "buses------------->bus\n",
      "studies------------->study\n",
      "running------------->run\n",
      "happiness------------->happiness\n",
      "quickly------------->quickly\n",
      "nationality------------->nationality\n",
      "organization------------->organization\n",
      "connecting------------->connect\n",
      "biggest------------->biggest\n"
     ]
    }
   ],
   "source": [
    "for word in words:\n",
    "    print(word+\"------------->\"+lemmatizer.lemmatize(word,pos ='v'))"
   ]
  },
  {
   "cell_type": "code",
   "execution_count": 42,
   "id": "0d2d9fb4",
   "metadata": {},
   "outputs": [
    {
     "name": "stdout",
     "output_type": "stream",
     "text": [
      "cats------------->cats\n",
      "dogs------------->dogs\n",
      "buses------------->buses\n",
      "studies------------->studies\n",
      "running------------->running\n",
      "happiness------------->happiness\n",
      "quickly------------->quickly\n",
      "nationality------------->nationality\n",
      "organization------------->organization\n",
      "connecting------------->connecting\n",
      "biggest------------->big\n"
     ]
    }
   ],
   "source": [
    "for word in words:\n",
    "    print(word+\"------------->\"+lemmatizer.lemmatize(word,pos ='a'))"
   ]
  },
  {
   "cell_type": "markdown",
   "id": "4c39ddfb",
   "metadata": {},
   "source": [
    "### Stop Words"
   ]
  },
  {
   "cell_type": "code",
   "execution_count": 43,
   "id": "23816104",
   "metadata": {},
   "outputs": [],
   "source": [
    "para='''\n",
    "Text preprocessing is an essential step in Natural Language Processing, because raw text usually contains unnecessary words, \n",
    "symbols, and noise that can reduce the accuracy of a model. For example, when you analyze reviews written by customers, \n",
    "you may notice that many sentences contain words such as the, is, was, to, in, and on. These words do not usually add any real\n",
    " meaning to the text, but they increase the size of the data, which makes computations slower. Therefore, removing stopwords \n",
    " is one of the simplest and most effective preprocessing techniques. However, it is important to remember that the list of \n",
    " stopwords depends on the task. For instance, if you are working on a project related to medical records, words like is or was\n",
    "may not matter much, but if you are dealing with legal contracts, even a small word can change the meaning of a sentence.\n",
    "So, the challenge is not just to remove stopwords blindly, but to carefully choose which words should stay and which ones should go.\n",
    " After stopword removal, the remaining words often carry more meaningful information and make feature extraction easier for \n",
    " smachine learning algorithms.\n",
    "'''"
   ]
  },
  {
   "cell_type": "code",
   "execution_count": 44,
   "id": "9f8361e1",
   "metadata": {},
   "outputs": [],
   "source": [
    "from nltk.stem import PorterStemmer"
   ]
  },
  {
   "cell_type": "code",
   "execution_count": 45,
   "id": "525e0845",
   "metadata": {},
   "outputs": [
    {
     "name": "stderr",
     "output_type": "stream",
     "text": [
      "[nltk_data] Downloading package stopwords to\n",
      "[nltk_data]     C:\\Users\\hp\\AppData\\Roaming\\nltk_data...\n",
      "[nltk_data]   Unzipping corpora\\stopwords.zip.\n"
     ]
    },
    {
     "data": {
      "text/plain": [
       "True"
      ]
     },
     "execution_count": 45,
     "metadata": {},
     "output_type": "execute_result"
    }
   ],
   "source": [
    "nltk.download ('stopwords')"
   ]
  },
  {
   "cell_type": "code",
   "execution_count": 46,
   "id": "8e3a7707",
   "metadata": {},
   "outputs": [],
   "source": [
    "from nltk.corpus import stopwords\n"
   ]
  },
  {
   "cell_type": "code",
   "execution_count": 47,
   "id": "8cbaa57d",
   "metadata": {},
   "outputs": [
    {
     "data": {
      "text/plain": [
       "['a',\n",
       " 'about',\n",
       " 'above',\n",
       " 'after',\n",
       " 'again',\n",
       " 'against',\n",
       " 'ain',\n",
       " 'all',\n",
       " 'am',\n",
       " 'an',\n",
       " 'and',\n",
       " 'any',\n",
       " 'are',\n",
       " 'aren',\n",
       " \"aren't\",\n",
       " 'as',\n",
       " 'at',\n",
       " 'be',\n",
       " 'because',\n",
       " 'been',\n",
       " 'before',\n",
       " 'being',\n",
       " 'below',\n",
       " 'between',\n",
       " 'both',\n",
       " 'but',\n",
       " 'by',\n",
       " 'can',\n",
       " 'couldn',\n",
       " \"couldn't\",\n",
       " 'd',\n",
       " 'did',\n",
       " 'didn',\n",
       " \"didn't\",\n",
       " 'do',\n",
       " 'does',\n",
       " 'doesn',\n",
       " \"doesn't\",\n",
       " 'doing',\n",
       " 'don',\n",
       " \"don't\",\n",
       " 'down',\n",
       " 'during',\n",
       " 'each',\n",
       " 'few',\n",
       " 'for',\n",
       " 'from',\n",
       " 'further',\n",
       " 'had',\n",
       " 'hadn',\n",
       " \"hadn't\",\n",
       " 'has',\n",
       " 'hasn',\n",
       " \"hasn't\",\n",
       " 'have',\n",
       " 'haven',\n",
       " \"haven't\",\n",
       " 'having',\n",
       " 'he',\n",
       " \"he'd\",\n",
       " \"he'll\",\n",
       " 'her',\n",
       " 'here',\n",
       " 'hers',\n",
       " 'herself',\n",
       " \"he's\",\n",
       " 'him',\n",
       " 'himself',\n",
       " 'his',\n",
       " 'how',\n",
       " 'i',\n",
       " \"i'd\",\n",
       " 'if',\n",
       " \"i'll\",\n",
       " \"i'm\",\n",
       " 'in',\n",
       " 'into',\n",
       " 'is',\n",
       " 'isn',\n",
       " \"isn't\",\n",
       " 'it',\n",
       " \"it'd\",\n",
       " \"it'll\",\n",
       " \"it's\",\n",
       " 'its',\n",
       " 'itself',\n",
       " \"i've\",\n",
       " 'just',\n",
       " 'll',\n",
       " 'm',\n",
       " 'ma',\n",
       " 'me',\n",
       " 'mightn',\n",
       " \"mightn't\",\n",
       " 'more',\n",
       " 'most',\n",
       " 'mustn',\n",
       " \"mustn't\",\n",
       " 'my',\n",
       " 'myself',\n",
       " 'needn',\n",
       " \"needn't\",\n",
       " 'no',\n",
       " 'nor',\n",
       " 'not',\n",
       " 'now',\n",
       " 'o',\n",
       " 'of',\n",
       " 'off',\n",
       " 'on',\n",
       " 'once',\n",
       " 'only',\n",
       " 'or',\n",
       " 'other',\n",
       " 'our',\n",
       " 'ours',\n",
       " 'ourselves',\n",
       " 'out',\n",
       " 'over',\n",
       " 'own',\n",
       " 're',\n",
       " 's',\n",
       " 'same',\n",
       " 'shan',\n",
       " \"shan't\",\n",
       " 'she',\n",
       " \"she'd\",\n",
       " \"she'll\",\n",
       " \"she's\",\n",
       " 'should',\n",
       " 'shouldn',\n",
       " \"shouldn't\",\n",
       " \"should've\",\n",
       " 'so',\n",
       " 'some',\n",
       " 'such',\n",
       " 't',\n",
       " 'than',\n",
       " 'that',\n",
       " \"that'll\",\n",
       " 'the',\n",
       " 'their',\n",
       " 'theirs',\n",
       " 'them',\n",
       " 'themselves',\n",
       " 'then',\n",
       " 'there',\n",
       " 'these',\n",
       " 'they',\n",
       " \"they'd\",\n",
       " \"they'll\",\n",
       " \"they're\",\n",
       " \"they've\",\n",
       " 'this',\n",
       " 'those',\n",
       " 'through',\n",
       " 'to',\n",
       " 'too',\n",
       " 'under',\n",
       " 'until',\n",
       " 'up',\n",
       " 've',\n",
       " 'very',\n",
       " 'was',\n",
       " 'wasn',\n",
       " \"wasn't\",\n",
       " 'we',\n",
       " \"we'd\",\n",
       " \"we'll\",\n",
       " \"we're\",\n",
       " 'were',\n",
       " 'weren',\n",
       " \"weren't\",\n",
       " \"we've\",\n",
       " 'what',\n",
       " 'when',\n",
       " 'where',\n",
       " 'which',\n",
       " 'while',\n",
       " 'who',\n",
       " 'whom',\n",
       " 'why',\n",
       " 'will',\n",
       " 'with',\n",
       " 'won',\n",
       " \"won't\",\n",
       " 'wouldn',\n",
       " \"wouldn't\",\n",
       " 'y',\n",
       " 'you',\n",
       " \"you'd\",\n",
       " \"you'll\",\n",
       " 'your',\n",
       " \"you're\",\n",
       " 'yours',\n",
       " 'yourself',\n",
       " 'yourselves',\n",
       " \"you've\"]"
      ]
     },
     "execution_count": 47,
     "metadata": {},
     "output_type": "execute_result"
    }
   ],
   "source": [
    "stopwords.words('english')"
   ]
  },
  {
   "cell_type": "code",
   "execution_count": 51,
   "id": "d4bab84c",
   "metadata": {},
   "outputs": [
    {
     "data": {
      "text/plain": [
       "['aber',\n",
       " 'alle',\n",
       " 'allem',\n",
       " 'allen',\n",
       " 'aller',\n",
       " 'alles',\n",
       " 'als',\n",
       " 'also',\n",
       " 'am',\n",
       " 'an',\n",
       " 'ander',\n",
       " 'andere',\n",
       " 'anderem',\n",
       " 'anderen',\n",
       " 'anderer',\n",
       " 'anderes',\n",
       " 'anderm',\n",
       " 'andern',\n",
       " 'anderr',\n",
       " 'anders',\n",
       " 'auch',\n",
       " 'auf',\n",
       " 'aus',\n",
       " 'bei',\n",
       " 'bin',\n",
       " 'bis',\n",
       " 'bist',\n",
       " 'da',\n",
       " 'damit',\n",
       " 'dann',\n",
       " 'der',\n",
       " 'den',\n",
       " 'des',\n",
       " 'dem',\n",
       " 'die',\n",
       " 'das',\n",
       " 'dass',\n",
       " 'daß',\n",
       " 'derselbe',\n",
       " 'derselben',\n",
       " 'denselben',\n",
       " 'desselben',\n",
       " 'demselben',\n",
       " 'dieselbe',\n",
       " 'dieselben',\n",
       " 'dasselbe',\n",
       " 'dazu',\n",
       " 'dein',\n",
       " 'deine',\n",
       " 'deinem',\n",
       " 'deinen',\n",
       " 'deiner',\n",
       " 'deines',\n",
       " 'denn',\n",
       " 'derer',\n",
       " 'dessen',\n",
       " 'dich',\n",
       " 'dir',\n",
       " 'du',\n",
       " 'dies',\n",
       " 'diese',\n",
       " 'diesem',\n",
       " 'diesen',\n",
       " 'dieser',\n",
       " 'dieses',\n",
       " 'doch',\n",
       " 'dort',\n",
       " 'durch',\n",
       " 'ein',\n",
       " 'eine',\n",
       " 'einem',\n",
       " 'einen',\n",
       " 'einer',\n",
       " 'eines',\n",
       " 'einig',\n",
       " 'einige',\n",
       " 'einigem',\n",
       " 'einigen',\n",
       " 'einiger',\n",
       " 'einiges',\n",
       " 'einmal',\n",
       " 'er',\n",
       " 'ihn',\n",
       " 'ihm',\n",
       " 'es',\n",
       " 'etwas',\n",
       " 'euer',\n",
       " 'eure',\n",
       " 'eurem',\n",
       " 'euren',\n",
       " 'eurer',\n",
       " 'eures',\n",
       " 'für',\n",
       " 'gegen',\n",
       " 'gewesen',\n",
       " 'hab',\n",
       " 'habe',\n",
       " 'haben',\n",
       " 'hat',\n",
       " 'hatte',\n",
       " 'hatten',\n",
       " 'hier',\n",
       " 'hin',\n",
       " 'hinter',\n",
       " 'ich',\n",
       " 'mich',\n",
       " 'mir',\n",
       " 'ihr',\n",
       " 'ihre',\n",
       " 'ihrem',\n",
       " 'ihren',\n",
       " 'ihrer',\n",
       " 'ihres',\n",
       " 'euch',\n",
       " 'im',\n",
       " 'in',\n",
       " 'indem',\n",
       " 'ins',\n",
       " 'ist',\n",
       " 'jede',\n",
       " 'jedem',\n",
       " 'jeden',\n",
       " 'jeder',\n",
       " 'jedes',\n",
       " 'jene',\n",
       " 'jenem',\n",
       " 'jenen',\n",
       " 'jener',\n",
       " 'jenes',\n",
       " 'jetzt',\n",
       " 'kann',\n",
       " 'kein',\n",
       " 'keine',\n",
       " 'keinem',\n",
       " 'keinen',\n",
       " 'keiner',\n",
       " 'keines',\n",
       " 'können',\n",
       " 'könnte',\n",
       " 'machen',\n",
       " 'man',\n",
       " 'manche',\n",
       " 'manchem',\n",
       " 'manchen',\n",
       " 'mancher',\n",
       " 'manches',\n",
       " 'mein',\n",
       " 'meine',\n",
       " 'meinem',\n",
       " 'meinen',\n",
       " 'meiner',\n",
       " 'meines',\n",
       " 'mit',\n",
       " 'muss',\n",
       " 'musste',\n",
       " 'nach',\n",
       " 'nicht',\n",
       " 'nichts',\n",
       " 'noch',\n",
       " 'nun',\n",
       " 'nur',\n",
       " 'ob',\n",
       " 'oder',\n",
       " 'ohne',\n",
       " 'sehr',\n",
       " 'sein',\n",
       " 'seine',\n",
       " 'seinem',\n",
       " 'seinen',\n",
       " 'seiner',\n",
       " 'seines',\n",
       " 'selbst',\n",
       " 'sich',\n",
       " 'sie',\n",
       " 'ihnen',\n",
       " 'sind',\n",
       " 'so',\n",
       " 'solche',\n",
       " 'solchem',\n",
       " 'solchen',\n",
       " 'solcher',\n",
       " 'solches',\n",
       " 'soll',\n",
       " 'sollte',\n",
       " 'sondern',\n",
       " 'sonst',\n",
       " 'über',\n",
       " 'um',\n",
       " 'und',\n",
       " 'uns',\n",
       " 'unsere',\n",
       " 'unserem',\n",
       " 'unseren',\n",
       " 'unser',\n",
       " 'unseres',\n",
       " 'unter',\n",
       " 'viel',\n",
       " 'vom',\n",
       " 'von',\n",
       " 'vor',\n",
       " 'während',\n",
       " 'war',\n",
       " 'waren',\n",
       " 'warst',\n",
       " 'was',\n",
       " 'weg',\n",
       " 'weil',\n",
       " 'weiter',\n",
       " 'welche',\n",
       " 'welchem',\n",
       " 'welchen',\n",
       " 'welcher',\n",
       " 'welches',\n",
       " 'wenn',\n",
       " 'werde',\n",
       " 'werden',\n",
       " 'wie',\n",
       " 'wieder',\n",
       " 'will',\n",
       " 'wir',\n",
       " 'wird',\n",
       " 'wirst',\n",
       " 'wo',\n",
       " 'wollen',\n",
       " 'wollte',\n",
       " 'würde',\n",
       " 'würden',\n",
       " 'zu',\n",
       " 'zum',\n",
       " 'zur',\n",
       " 'zwar',\n",
       " 'zwischen']"
      ]
     },
     "execution_count": 51,
     "metadata": {},
     "output_type": "execute_result"
    }
   ],
   "source": [
    "stopwords.words('German')"
   ]
  },
  {
   "cell_type": "code",
   "execution_count": null,
   "id": "3c019a92",
   "metadata": {},
   "outputs": [],
   "source": []
  },
  {
   "cell_type": "code",
   "execution_count": null,
   "id": "5ff8127e",
   "metadata": {},
   "outputs": [],
   "source": []
  },
  {
   "cell_type": "code",
   "execution_count": null,
   "id": "c66b916f",
   "metadata": {},
   "outputs": [],
   "source": []
  },
  {
   "cell_type": "code",
   "execution_count": null,
   "id": "c861b61c",
   "metadata": {},
   "outputs": [],
   "source": []
  },
  {
   "cell_type": "code",
   "execution_count": null,
   "id": "40d6dda9",
   "metadata": {},
   "outputs": [],
   "source": []
  },
  {
   "cell_type": "code",
   "execution_count": null,
   "id": "89ce0c0a",
   "metadata": {},
   "outputs": [],
   "source": []
  },
  {
   "cell_type": "code",
   "execution_count": null,
   "id": "74a6e9f9",
   "metadata": {},
   "outputs": [],
   "source": []
  },
  {
   "cell_type": "code",
   "execution_count": null,
   "id": "d6917e57",
   "metadata": {},
   "outputs": [],
   "source": []
  },
  {
   "cell_type": "code",
   "execution_count": null,
   "id": "44ef1474",
   "metadata": {},
   "outputs": [],
   "source": []
  },
  {
   "cell_type": "code",
   "execution_count": null,
   "id": "713124ed",
   "metadata": {},
   "outputs": [],
   "source": []
  },
  {
   "cell_type": "code",
   "execution_count": null,
   "id": "b9033cee",
   "metadata": {},
   "outputs": [],
   "source": []
  },
  {
   "cell_type": "code",
   "execution_count": null,
   "id": "58e19cb1",
   "metadata": {},
   "outputs": [],
   "source": []
  },
  {
   "cell_type": "code",
   "execution_count": null,
   "id": "03c923fd",
   "metadata": {},
   "outputs": [],
   "source": []
  },
  {
   "cell_type": "code",
   "execution_count": null,
   "id": "e30f3693",
   "metadata": {},
   "outputs": [],
   "source": []
  },
  {
   "cell_type": "code",
   "execution_count": null,
   "id": "c949719a",
   "metadata": {},
   "outputs": [],
   "source": []
  },
  {
   "cell_type": "code",
   "execution_count": null,
   "id": "43ae2f25",
   "metadata": {},
   "outputs": [],
   "source": []
  },
  {
   "cell_type": "code",
   "execution_count": null,
   "id": "ce1eaf48",
   "metadata": {},
   "outputs": [],
   "source": []
  },
  {
   "cell_type": "code",
   "execution_count": null,
   "id": "f14af8ae",
   "metadata": {},
   "outputs": [],
   "source": []
  },
  {
   "cell_type": "code",
   "execution_count": null,
   "id": "1dd19f35",
   "metadata": {},
   "outputs": [],
   "source": []
  },
  {
   "cell_type": "code",
   "execution_count": null,
   "id": "a7685252",
   "metadata": {},
   "outputs": [],
   "source": []
  },
  {
   "cell_type": "code",
   "execution_count": null,
   "id": "614ec8d8",
   "metadata": {},
   "outputs": [],
   "source": []
  },
  {
   "cell_type": "code",
   "execution_count": null,
   "id": "04e4565a",
   "metadata": {},
   "outputs": [],
   "source": []
  },
  {
   "cell_type": "code",
   "execution_count": null,
   "id": "ca78bdef",
   "metadata": {},
   "outputs": [],
   "source": []
  },
  {
   "cell_type": "code",
   "execution_count": null,
   "id": "7f909396",
   "metadata": {},
   "outputs": [],
   "source": []
  },
  {
   "cell_type": "code",
   "execution_count": null,
   "id": "6641fde4",
   "metadata": {},
   "outputs": [],
   "source": []
  },
  {
   "cell_type": "code",
   "execution_count": null,
   "id": "50dd6262",
   "metadata": {},
   "outputs": [],
   "source": []
  },
  {
   "cell_type": "code",
   "execution_count": null,
   "id": "3c5bd82b",
   "metadata": {},
   "outputs": [],
   "source": []
  },
  {
   "cell_type": "code",
   "execution_count": null,
   "id": "7eb98650",
   "metadata": {},
   "outputs": [],
   "source": []
  },
  {
   "cell_type": "code",
   "execution_count": null,
   "id": "4d8fd242",
   "metadata": {},
   "outputs": [],
   "source": []
  },
  {
   "cell_type": "code",
   "execution_count": null,
   "id": "1fda44d5",
   "metadata": {},
   "outputs": [],
   "source": []
  },
  {
   "cell_type": "code",
   "execution_count": null,
   "id": "e73ed91b",
   "metadata": {},
   "outputs": [],
   "source": []
  },
  {
   "cell_type": "code",
   "execution_count": null,
   "id": "f81c7ded",
   "metadata": {},
   "outputs": [],
   "source": []
  },
  {
   "cell_type": "code",
   "execution_count": null,
   "id": "932609e1",
   "metadata": {},
   "outputs": [],
   "source": []
  },
  {
   "cell_type": "code",
   "execution_count": null,
   "id": "adb63cd1",
   "metadata": {},
   "outputs": [],
   "source": []
  },
  {
   "cell_type": "code",
   "execution_count": null,
   "id": "37b7c3ab",
   "metadata": {},
   "outputs": [],
   "source": []
  },
  {
   "cell_type": "code",
   "execution_count": null,
   "id": "77d38e0d",
   "metadata": {},
   "outputs": [],
   "source": []
  },
  {
   "cell_type": "code",
   "execution_count": null,
   "id": "f0400c25",
   "metadata": {},
   "outputs": [],
   "source": []
  },
  {
   "cell_type": "code",
   "execution_count": null,
   "id": "9d673650",
   "metadata": {},
   "outputs": [],
   "source": []
  },
  {
   "cell_type": "code",
   "execution_count": null,
   "id": "c47389d7",
   "metadata": {},
   "outputs": [],
   "source": []
  },
  {
   "cell_type": "code",
   "execution_count": null,
   "id": "d442ad70",
   "metadata": {},
   "outputs": [],
   "source": []
  },
  {
   "cell_type": "code",
   "execution_count": null,
   "id": "08a14511",
   "metadata": {},
   "outputs": [],
   "source": []
  },
  {
   "cell_type": "code",
   "execution_count": null,
   "id": "df6fbbd2",
   "metadata": {},
   "outputs": [],
   "source": []
  },
  {
   "cell_type": "code",
   "execution_count": null,
   "id": "4c1886db",
   "metadata": {},
   "outputs": [],
   "source": []
  },
  {
   "cell_type": "code",
   "execution_count": null,
   "id": "2ecc2c82",
   "metadata": {},
   "outputs": [],
   "source": []
  },
  {
   "cell_type": "code",
   "execution_count": null,
   "id": "ee76300a",
   "metadata": {},
   "outputs": [],
   "source": []
  },
  {
   "cell_type": "code",
   "execution_count": null,
   "id": "bd6556ad",
   "metadata": {},
   "outputs": [],
   "source": []
  },
  {
   "cell_type": "code",
   "execution_count": null,
   "id": "e509e5e6",
   "metadata": {},
   "outputs": [],
   "source": []
  },
  {
   "cell_type": "code",
   "execution_count": null,
   "id": "e47ab776",
   "metadata": {},
   "outputs": [],
   "source": []
  },
  {
   "cell_type": "code",
   "execution_count": null,
   "id": "304d06d0",
   "metadata": {},
   "outputs": [],
   "source": []
  },
  {
   "cell_type": "code",
   "execution_count": null,
   "id": "9c8cabba",
   "metadata": {},
   "outputs": [],
   "source": []
  },
  {
   "cell_type": "code",
   "execution_count": null,
   "id": "c67ee16d",
   "metadata": {},
   "outputs": [],
   "source": []
  },
  {
   "cell_type": "code",
   "execution_count": null,
   "id": "f8392836",
   "metadata": {},
   "outputs": [],
   "source": []
  },
  {
   "cell_type": "code",
   "execution_count": null,
   "id": "236004c6",
   "metadata": {},
   "outputs": [],
   "source": []
  },
  {
   "cell_type": "code",
   "execution_count": null,
   "id": "640104a2",
   "metadata": {},
   "outputs": [],
   "source": []
  },
  {
   "cell_type": "code",
   "execution_count": null,
   "id": "ef596073",
   "metadata": {},
   "outputs": [],
   "source": []
  },
  {
   "cell_type": "code",
   "execution_count": null,
   "id": "d15fae33",
   "metadata": {},
   "outputs": [],
   "source": []
  }
 ],
 "metadata": {
  "kernelspec": {
   "display_name": "base",
   "language": "python",
   "name": "python3"
  },
  "language_info": {
   "codemirror_mode": {
    "name": "ipython",
    "version": 3
   },
   "file_extension": ".py",
   "mimetype": "text/x-python",
   "name": "python",
   "nbconvert_exporter": "python",
   "pygments_lexer": "ipython3",
   "version": "3.12.4"
  }
 },
 "nbformat": 4,
 "nbformat_minor": 5
}
